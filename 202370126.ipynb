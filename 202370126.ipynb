{
 "cells": [
  {
   "attachments": {},
   "cell_type": "markdown",
   "metadata": {},
   "source": [
    "# Feature Engineering report -- 社説記事分類\n",
    "計画情報システム特論の課題として、複数の新聞社の「社説」記事を収集し、特徴量エンジニアリングを利用して社説記事の分類実験を行いました。　　\n",
    "以下は目次です。\n",
    "\n",
    "0. データ収集\n",
    "1. 分類のための特徴量の決定\n",
    "2. 特徴量を用いた社説記事の分類実験\n",
    "3. ソースコードとしての工夫点\n",
    "4. 参考文献\n",
    "5. 付録：ソースコード"
   ]
  },
  {
   "attachments": {},
   "cell_type": "markdown",
   "metadata": {},
   "source": [
    "## 0 データ収集\n",
    "データソースとして、新聞社3社「毎日新聞」、「朝日新聞」と「読売新聞」の「社説」記事をウェブスクレイピングによって収集しました。"
   ]
  },
  {
   "attachments": {},
   "cell_type": "markdown",
   "metadata": {},
   "source": [
    "### 0.1 朝日新聞"
   ]
  },
  {
   "cell_type": "code",
   "execution_count": null,
   "metadata": {},
   "outputs": [],
   "source": [
    "import requests\n",
    "from bs4 import BeautifulSoup\n",
    "import pandas as pd\n",
    "\n",
    "N = 100\n",
    "df = pd.DataFrame()\n",
    "# URL of the webpage to scrape\n",
    "url = 'https://www.asahi.com/articles/DA3S15675695.html?iref=pc_rensai_article_long_16_article_prev'\n",
    "\n",
    "for i in range(N):\n",
    "    # Send a GET request to the URL\n",
    "    response = requests.get(url)\n",
    "    print(i+1,'total scraped;', 'current url: ',url)\n",
    "    # Create a BeautifulSoup object with the response content\n",
    "    soup = BeautifulSoup(response.content, 'html.parser')\n",
    "\n",
    "    # Find the specific elements you want to scrape using appropriate selectors\n",
    "    t = soup.select('#main > div.y_Qv3 > h1')[0].string #（社説）スマホ新規制　競争と安全の両立を\n",
    "    close_paren_index = t.find('）')\n",
    "    title = t[close_paren_index + 1:] # スマホ新規制　競争と安全の両立を\n",
    "\n",
    "    date = soup.select('#main > div.y_Qv3 > div > span > time')[0].attrs['datetime'] # Complete ISO-8601 date\n",
    "\n",
    "    ct = soup.find('div', class_='nfyQp')\n",
    "    # Exclude the unwanted content (description for picture)\n",
    "    for figure in ct.find_all('figure'):\n",
    "        figure.decompose()\n",
    "\n",
    "    # Exclude the unwanted 'div' with class 'notPrint'. Get rid of [PR] at the beginning of content\n",
    "    unwanted_div = ct.find('div', class_='notPrint gXncj')\n",
    "    if unwanted_div:\n",
    "        unwanted_div.decompose()\n",
    "    content = ct.get_text(strip=True)\n",
    "    # foundForDesciption = soup.find('meta', attrs={'name': 'description'})\n",
    "    # description = unicodedata.normalize('NFKC', foundForDesciption.get(\"content\"))\n",
    "\n",
    "    previous_url = soup.select('#main > div.notPrint.JTQCd > ul > li:nth-child(1) > div > a')[0].attrs['href']\n",
    "    df = df.append({'Title': title, 'Date': date, 'Content': content}, ignore_index=True)\n",
    "    url = previous_url\n",
    "\n",
    "df.to_csv('./data/asahi100.csv', index=False)\n",
    "# print(df)"
   ]
  },
  {
   "attachments": {},
   "cell_type": "markdown",
   "metadata": {},
   "source": [
    "### 0.2 毎日新聞"
   ]
  },
  {
   "cell_type": "code",
   "execution_count": null,
   "metadata": {},
   "outputs": [],
   "source": [
    "import requests\n",
    "from bs4 import BeautifulSoup\n",
    "import pandas as pd\n",
    "import re\n",
    "\n",
    "N = 100\n",
    "df = pd.DataFrame()\n",
    "url = 'https://mainichi.jp/articles/20230708/ddm/005/070/122000c'\n",
    "\n",
    "for i in range(N):\n",
    "    response = requests.get(url)\n",
    "    soup = BeautifulSoup(response.content, 'html.parser')\n",
    "    print(i+1,'total scraped;', 'current url: ',url)\n",
    "\n",
    "    html_string = soup.select('#articledetail-title > div:nth-child(4) > span.articletag-date.is-articledetail')[0].string\n",
    "    pattern = r'\\d{4}/\\d{1,2}/\\d{1,2}'\n",
    "    match = re.search(pattern, html_string)\n",
    "    date = match.group()\n",
    "\n",
    "    t = soup.select('#articledetail-title > h1')[0].string\n",
    "    title = t.replace('\\u3000', ' ')\n",
    "\n",
    "    previous_url = 'https:' + soup.find('a', class_='articlenav-prev').attrs['href']\n",
    "    url = previous_url\n",
    "\n",
    "    ct = soup.find('div', class_='articledetail')\n",
    "    unwanted_div = ct.find('div', class_='articletool')\n",
    "    unwanted_div.decompose()\n",
    "    unwanted_div = ct.find('div', class_='articledetail-subcontents')\n",
    "    unwanted_div.decompose()\n",
    "    content = ct.get_text(strip=True)\n",
    "\n",
    "    df = df.append({'Title': title, 'Date': date, 'Content': content}, ignore_index=True)\n",
    "\n",
    "df.to_csv('./data/mainichi100.csv', index=False)\n",
    "# print(df)"
   ]
  },
  {
   "attachments": {},
   "cell_type": "markdown",
   "metadata": {},
   "source": [
    "### 0.3 読売新聞\n",
    "* there is a 'さらに読み込む' button that I don't know how to handle. The solution is to manually click the button several time until enough(100) articles are available."
   ]
  },
  {
   "cell_type": "code",
   "execution_count": 4,
   "metadata": {},
   "outputs": [
    {
     "name": "stdout",
     "output_type": "stream",
     "text": [
      "https://www.yomiuri.co.jp/editorial/ :start page\n"
     ]
    }
   ],
   "source": [
    "# モジュールの中のクラスを指定してimport\n",
    "from selenium import webdriver\n",
    "from selenium.webdriver.chrome import service\n",
    "from selenium.webdriver.common.by import By\n",
    "from selenium.common.exceptions import NoSuchElementException\n",
    "import time\n",
    "\n",
    "# Chromeを起動する\n",
    "driver_path = r'C:\\Users\\kinue\\Documents\\2023\\feature_engi_report\\chromedriver_win32\\chromedriver.exe'\n",
    "chrome_service = service.Service(executable_path=driver_path)\n",
    "driver = webdriver.Chrome(service=chrome_service)\n",
    "# chromedriverが見つかるまでの待ち時間\n",
    "driver.implicitly_wait(2)\n",
    "\n",
    "init_url=\"https://www.yomiuri.co.jp/editorial/\"\n",
    "driver.get(init_url)\n",
    "print(init_url, \":start page\")\n",
    "time.sleep(2)"
   ]
  },
  {
   "cell_type": "code",
   "execution_count": 11,
   "metadata": {},
   "outputs": [
    {
     "name": "stdout",
     "output_type": "stream",
     "text": [
      "['https://www.yomiuri.co.jp/editorial/20230708-OYT1T50208/', 'https://www.yomiuri.co.jp/editorial/20230708-OYT1T50211/', 'https://www.yomiuri.co.jp/editorial/20230707-OYT1T50249/', 'https://www.yomiuri.co.jp/editorial/20230707-OYT1T50246/', 'https://www.yomiuri.co.jp/editorial/20230706-OYT1T50325/', 'https://www.yomiuri.co.jp/editorial/20230706-OYT1T50322/', 'https://www.yomiuri.co.jp/editorial/20230705-OYT1T50244/', 'https://www.yomiuri.co.jp/editorial/20230705-OYT1T50241/', 'https://www.yomiuri.co.jp/editorial/20230704-OYT1T50239/', 'https://www.yomiuri.co.jp/editorial/20230704-OYT1T50236/', 'https://www.yomiuri.co.jp/editorial/20230703-OYT1T50226/', 'https://www.yomiuri.co.jp/editorial/20230703-OYT1T50223/', 'https://www.yomiuri.co.jp/editorial/20230702-OYT1T50218/', 'https://www.yomiuri.co.jp/editorial/20230702-OYT1T50215/', 'https://www.yomiuri.co.jp/editorial/20230701-OYT1T50247/', 'https://www.yomiuri.co.jp/editorial/20230701-OYT1T50244/', 'https://www.yomiuri.co.jp/editorial/20230630-OYT1T50265/', 'https://www.yomiuri.co.jp/editorial/20230630-OYT1T50259/', 'https://www.yomiuri.co.jp/editorial/20230629-OYT1T50195/', 'https://www.yomiuri.co.jp/editorial/20230629-OYT1T50192/', 'https://www.yomiuri.co.jp/editorial/20230628-OYT1T50240/', 'https://www.yomiuri.co.jp/editorial/20230628-OYT1T50237/', 'https://www.yomiuri.co.jp/editorial/20230627-OYT1T50257/', 'https://www.yomiuri.co.jp/editorial/20230627-OYT1T50254/', 'https://www.yomiuri.co.jp/editorial/20230626-OYT1T50297/', 'https://www.yomiuri.co.jp/editorial/20230626-OYT1T50292/', 'https://www.yomiuri.co.jp/editorial/20230625-OYT1T50191/', 'https://www.yomiuri.co.jp/editorial/20230625-OYT1T50188/', 'https://www.yomiuri.co.jp/editorial/20230624-OYT1T50186/', 'https://www.yomiuri.co.jp/editorial/20230624-OYT1T50183/', 'https://www.yomiuri.co.jp/editorial/20230623-OYT1T50305/', 'https://www.yomiuri.co.jp/editorial/20230623-OYT1T50302/', 'https://www.yomiuri.co.jp/editorial/20230623-OYT1T50083/', 'https://www.yomiuri.co.jp/editorial/20230623-OYT1T50070/', 'https://www.yomiuri.co.jp/editorial/20230621-OYT1T50273/', 'https://www.yomiuri.co.jp/editorial/20230621-OYT1T50270/', 'https://www.yomiuri.co.jp/editorial/20230620-OYT1T50203/', 'https://www.yomiuri.co.jp/editorial/20230620-OYT1T50200/', 'https://www.yomiuri.co.jp/editorial/20230619-OYT1T50253/', 'https://www.yomiuri.co.jp/editorial/20230619-OYT1T50250/', 'https://www.yomiuri.co.jp/editorial/20230618-OYT1T50138/', 'https://www.yomiuri.co.jp/editorial/20230618-OYT1T50135/', 'https://www.yomiuri.co.jp/editorial/20230617-OYT1T50290/', 'https://www.yomiuri.co.jp/editorial/20230617-OYT1T50287/', 'https://www.yomiuri.co.jp/editorial/20230616-OYT1T50258/', 'https://www.yomiuri.co.jp/editorial/20230616-OYT1T50254/', 'https://www.yomiuri.co.jp/editorial/20230616-OYT1T50013/', 'https://www.yomiuri.co.jp/editorial/20230616-OYT1T50010/', 'https://www.yomiuri.co.jp/editorial/20230614-OYT1T50286/', 'https://www.yomiuri.co.jp/editorial/20230614-OYT1T50284/', 'https://www.yomiuri.co.jp/editorial/20230613-OYT1T50164/', 'https://www.yomiuri.co.jp/editorial/20230613-OYT1T50161/', 'https://www.yomiuri.co.jp/editorial/20230612-OYT1T50193/', 'https://www.yomiuri.co.jp/editorial/20230612-OYT1T50189/', 'https://www.yomiuri.co.jp/editorial/20230610-OYT1T50273/', 'https://www.yomiuri.co.jp/editorial/20230610-OYT1T50270/', 'https://www.yomiuri.co.jp/editorial/20230609-OYT1T50270/', 'https://www.yomiuri.co.jp/editorial/20230609-OYT1T50267/', 'https://www.yomiuri.co.jp/editorial/20230608-OYT1T50261/', 'https://www.yomiuri.co.jp/editorial/20230608-OYT1T50257/', 'https://www.yomiuri.co.jp/editorial/20230607-OYT1T50239/', 'https://www.yomiuri.co.jp/editorial/20230607-OYT1T50236/', 'https://www.yomiuri.co.jp/editorial/20230606-OYT1T50228/', 'https://www.yomiuri.co.jp/editorial/20230606-OYT1T50225/', 'https://www.yomiuri.co.jp/editorial/20230605-OYT1T50252/', 'https://www.yomiuri.co.jp/editorial/20230605-OYT1T50244/', 'https://www.yomiuri.co.jp/editorial/20230604-OYT1T50144/', 'https://www.yomiuri.co.jp/editorial/20230604-OYT1T50141/', 'https://www.yomiuri.co.jp/editorial/20230603-OYT1T50230/', 'https://www.yomiuri.co.jp/editorial/20230603-OYT1T50227/', 'https://www.yomiuri.co.jp/editorial/20230602-OYT1T50262/', 'https://www.yomiuri.co.jp/editorial/20230602-OYT1T50259/', 'https://www.yomiuri.co.jp/editorial/20230601-OYT1T50232/', 'https://www.yomiuri.co.jp/editorial/20230601-OYT1T50229/', 'https://www.yomiuri.co.jp/editorial/20230531-OYT1T50307/', 'https://www.yomiuri.co.jp/editorial/20230531-OYT1T50304/', 'https://www.yomiuri.co.jp/editorial/20230530-OYT1T50254/', 'https://www.yomiuri.co.jp/editorial/20230530-OYT1T50251/', 'https://www.yomiuri.co.jp/editorial/20230529-OYT1T50201/', 'https://www.yomiuri.co.jp/editorial/20230529-OYT1T50198/', 'https://www.yomiuri.co.jp/editorial/20230528-OYT1T50116/', 'https://www.yomiuri.co.jp/editorial/20230528-OYT1T50113/', 'https://www.yomiuri.co.jp/editorial/20230527-OYT1T50305/', 'https://www.yomiuri.co.jp/editorial/20230527-OYT1T50301/', 'https://www.yomiuri.co.jp/editorial/20230526-OYT1T50307/', 'https://www.yomiuri.co.jp/editorial/20230526-OYT1T50304/', 'https://www.yomiuri.co.jp/editorial/20230525-OYT1T50378/', 'https://www.yomiuri.co.jp/editorial/20230525-OYT1T50371/', 'https://www.yomiuri.co.jp/editorial/20230524-OYT1T50273/', 'https://www.yomiuri.co.jp/editorial/20230524-OYT1T50270/', 'https://www.yomiuri.co.jp/editorial/20230523-OYT1T50272/', 'https://www.yomiuri.co.jp/editorial/20230523-OYT1T50269/', 'https://www.yomiuri.co.jp/editorial/20230522-OYT1T50192/', 'https://www.yomiuri.co.jp/editorial/20230522-OYT1T50189/', 'https://www.yomiuri.co.jp/editorial/20230521-OYT1T50225/', 'https://www.yomiuri.co.jp/editorial/20230520-OYT1T50354/', 'https://www.yomiuri.co.jp/editorial/20230520-OYT1T50351/', 'https://www.yomiuri.co.jp/editorial/20230519-OYT1T50244/', 'https://www.yomiuri.co.jp/editorial/20230518-OYT1T50235/', 'https://www.yomiuri.co.jp/editorial/20230518-OYT1T50232/']\n",
      "100\n"
     ]
    }
   ],
   "source": [
    "N = 100\n",
    "urls = []\n",
    "elements = driver.find_elements(By.CLASS_NAME, 'p-list-item')\n",
    "for element in elements:\n",
    "    try:\n",
    "        url = element.find_element(By.CSS_SELECTOR,'a').get_attribute('href')\n",
    "        cl = element.find_element(By.CSS_SELECTOR,'div').get_attribute('class')\n",
    "        if  (cl == 'p-list-item__inner' or cl == 'p-list-item__innerfirst') and (len(urls) < N):\n",
    "            urls.append(url)\n",
    "    except NoSuchElementException:\n",
    "        # Handle the case when an element doesn't have an <a> tag\n",
    "        pass\n",
    "# print(urls)\n",
    "# print(len(urls))\n",
    "# driver.quit()"
   ]
  },
  {
   "cell_type": "code",
   "execution_count": 12,
   "metadata": {},
   "outputs": [
    {
     "name": "stdout",
     "output_type": "stream",
     "text": [
      "                                              Content        Date  \\\n",
      "0   人手不足が続き、パート労働者にもっと働いてほしいという企業は増えている。税や社会保険制度が主...  2023/07/09   \n",
      "1   反対勢力を排除して行う選挙に正当性があるとは言いがたい。フン・セン政権は、後退する民主化への...  2023/07/09   \n",
      "2   安倍晋三・元首相が銃撃されて死亡してから１年となった。事件が浮き彫りにした教訓や課題は重い。...  2023/07/08   \n",
      "3   日本で暮らす外国人の言葉の壁を取り払う上で日本語教育の重要性は増している。学校と教師の質の向...  2023/07/08   \n",
      "4   分からないことは、すぐＡＩ（人工知能）に聞き、その答えを鵜呑（うの）みにする。そうした安易な...  2023/07/07   \n",
      "..                                                ...         ...   \n",
      "95  中国と中央アジア５か国による初の対面での首脳会議が開かれた。中国が経済力を武器にこの地域への...  2023/05/21   \n",
      "96  保育士が子どもに暴力を振るったり、暴言を吐いたりすることは、絶対に許されない。国や自治体は、...  2023/05/21   \n",
      "97  ◆核軍縮の取り組み加速させたい◆日米欧が新興国を交えて、侵略を許さないという共通の意思を表明...  2023/05/20   \n",
      "98  民主主義陣営の中核が集う先進７か国首脳会議（Ｇ７サミット）が広島市で開幕する。岸田首相と各国...  2023/05/19   \n",
      "99  コロナ禍からの景気の持ち直し基調が、明確になってきた。今春闘の賃上げを消費の活性化につなげ、...  2023/05/19   \n",
      "\n",
      "                   Title  \n",
      "0   パート年収の壁小手先の対策で終わらせるな  \n",
      "1   カンボジア選挙看過できぬ民主主義の形骸化  \n",
      "2   安倍氏銃撃１年教訓を生かして安全な社会に  \n",
      "3      日本語教育新制度で質を向上させたい  \n",
      "4   学校のＡＩ利用自分で考える力を失わぬよう  \n",
      "..                   ...  \n",
      "95  中国の外交攻勢中央アジアに触手を伸ばした  \n",
      "96    不適切保育虐待生む背景に何があるのか  \n",
      "97    サミット開幕国際世論の形成を主導せよ  \n",
      "98   日米首脳会談アジアの安定へ責任を果たせ  \n",
      "99   ＧＤＰプラス好材料を生かし力強い成長に  \n",
      "\n",
      "[100 rows x 3 columns]\n"
     ]
    }
   ],
   "source": [
    "import requests\n",
    "from bs4 import BeautifulSoup\n",
    "import pandas as pd\n",
    "import re\n",
    "\n",
    "df = pd.DataFrame()\n",
    "\n",
    "for url in urls:\n",
    "    response = requests.get(url)\n",
    "    soup = BeautifulSoup(response.content, 'html.parser')\n",
    "\n",
    "    t= soup.select('body > div.layout-contents > div.layout-contents__main > div.uni-scrap > article > div.article-header > h1')[0].string\n",
    "    title = re.sub(r'\\s+|[\\u3000]', '', t)\n",
    "\n",
    "    dt = soup.select('body > div.layout-contents > div.layout-contents__main > div.uni-scrap > article > div.article-header > div > div.c-article-header-date > time')[0].string\n",
    "    date = dt.split(' ')[0]\n",
    "\n",
    "    ct = soup.find('div', class_='p-main-contents').get_text(strip=True)\n",
    "    content = ct.split('あわせて読みたい')[0]\n",
    "\n",
    "    df = df.append({'Title': title, 'Date': date, 'Content': content}, ignore_index=True)\n",
    "# print(df)\n",
    "df.to_csv('./data/yomiuri100.csv', index=False)"
   ]
  },
  {
   "attachments": {},
   "cell_type": "markdown",
   "metadata": {},
   "source": [
    "### 0.4 データを統一的に整う\n",
    "最終的に、三社の記事合計300点をdataframeで保存しました。各記事が四つの情報（新聞社、タイトル、配信日、内容）を持っています。\n",
    "例）一つ目の記事\n",
    "| Newspaper | Title | Date | Content |\n",
    "|----------|----------|----------|----------|\n",
    "| asahi | ロシアの混乱　核大国のもろさ示した | 2023-06-30 20:00:00+00:00 | 核大国ロシアの独裁体制が破綻（はたん）や崩壊と紙一重という恐るべき実態が浮き彫りになった。ロ... |"
   ]
  },
  {
   "cell_type": "code",
   "execution_count": 1,
   "metadata": {},
   "outputs": [
    {
     "name": "stdout",
     "output_type": "stream",
     "text": [
      "                                             Content  \\\n",
      "0  核大国ロシアの独裁体制が破綻（はたん）や崩壊と紙一重という恐るべき実態が浮き彫りになった。ロ...   \n",
      "\n",
      "                        Date              Title Newspaper  \n",
      "0  2023-06-30 20:00:00+00:00  ロシアの混乱　核大国のもろさ示した     asahi  \n"
     ]
    }
   ],
   "source": [
    "import pandas as pd\n",
    "\n",
    "df_asahi = pd.read_csv('./data/asahi100.csv')\n",
    "df_mainichi = pd.read_csv('./data/mainichi100.csv')\n",
    "df_yomiuri = pd.read_csv('./data/yomiuri100.csv')\n",
    "\n",
    "df_asahi['Date'] = pd.to_datetime(df_asahi['Date'])\n",
    "df_mainichi['Date'] = pd.to_datetime(df_mainichi['Date'])\n",
    "df_yomiuri['Date'] = pd.to_datetime(df_yomiuri['Date'])\n",
    "\n",
    "df_asahi['Newspaper'] = 'asahi'\n",
    "df_mainichi['Newspaper'] = 'mainichi'\n",
    "df_yomiuri['Newspaper'] = 'yomiuri'\n",
    "\n",
    "concatenated_df = pd.concat([df_asahi, df_mainichi, df_yomiuri])\n",
    "concatenated_df.to_csv('./data/editorial300.csv', index=False)\n",
    "\n",
    "print(concatenated_df.head(1))"
   ]
  },
  {
   "cell_type": "markdown",
   "metadata": {},
   "source": [
    "## 1 分類のための特徴量の決定"
   ]
  },
  {
   "cell_type": "markdown",
   "metadata": {},
   "source": [
    "### 1.1 Data Visulization\n",
    "The content of dataframe is only tokenized(分かち書き), no stemming or stop words removal applied.(will be done afterwards)  \n",
    "As result the count of words(tokens) contains punctuation marks."
   ]
  },
  {
   "cell_type": "code",
   "execution_count": 6,
   "metadata": {},
   "outputs": [
    {
     "name": "stdout",
     "output_type": "stream",
     "text": [
      "                                               Content  \\\n",
      "0    核大国ロシアの独裁体制が破綻（はたん）や崩壊と紙一重という恐るべき実態が浮き彫りになった。ロ...   \n",
      "1    活動火山対策特別措置法（活火山法）が改正され、火山調査研究推進本部（火山本部）が来春、発足す...   \n",
      "2    今なお残る差別や偏見を、確実になくす。そう強く促す司法判断が示された。全国の被差別部落の地名...   \n",
      "3    各地で天候の不順や急変が相次ぐ。梅雨のこの時期は、豪雨がもたらす災害が毎年のように生じている...   \n",
      "4    香港の市民から多くの権利を奪った「香港国家安全維持法」（国安法）が施行され、あすで３年になる...   \n",
      "..                                                 ...   \n",
      "295  中国と中央アジア５か国による初の対面での首脳会議が開かれた。中国が経済力を武器にこの地域への...   \n",
      "296  保育士が子どもに暴力を振るったり、暴言を吐いたりすることは、絶対に許されない。国や自治体は、...   \n",
      "297  ◆核軍縮の取り組み加速させたい◆日米欧が新興国を交えて、侵略を許さないという共通の意思を表明...   \n",
      "298  民主主義陣営の中核が集う先進７か国首脳会議（Ｇ７サミット）が広島市で開幕する。岸田首相と各国...   \n",
      "299  コロナ禍からの景気の持ち直し基調が、明確になってきた。今春闘の賃上げを消費の活性化につなげ、...   \n",
      "\n",
      "                         Date                 Title Newspaper  \\\n",
      "0   2023-06-30 20:00:00+00:00     ロシアの混乱　核大国のもろさ示した     asahi   \n",
      "1   2023-06-30 20:00:00+00:00       火山本部　噴火に備え体制強化を     asahi   \n",
      "2   2023-06-29 20:00:00+00:00     部落地名裁判　ネットの被害の根絶を     asahi   \n",
      "3   2023-06-29 20:00:00+00:00    被災者の支援　「訪問型」強化のために     asahi   \n",
      "4   2023-06-28 20:00:00+00:00    香港国安法３年　見過ごせぬ自由の封殺     asahi   \n",
      "..                        ...                   ...       ...   \n",
      "295 2023-05-21 00:00:00+00:00  中国の外交攻勢中央アジアに触手を伸ばした   yomiuri   \n",
      "296 2023-05-21 00:00:00+00:00    不適切保育虐待生む背景に何があるのか   yomiuri   \n",
      "297 2023-05-20 00:00:00+00:00    サミット開幕国際世論の形成を主導せよ   yomiuri   \n",
      "298 2023-05-19 00:00:00+00:00   日米首脳会談アジアの安定へ責任を果たせ   yomiuri   \n",
      "299 2023-05-19 00:00:00+00:00   ＧＤＰプラス好材料を生かし力強い成長に   yomiuri   \n",
      "\n",
      "                                  Preprocessed_Content  Word_Count  \n",
      "0    核 大国 ロシア の 独裁 体制 が 破綻 （ はたん ） や 崩壊 と 紙一重 という 恐...         602  \n",
      "1    活動 火山 対策 特別 措置 法 （ 活火山 法 ） が 改正 さ れ 、 火山 調査 研究...         634  \n",
      "2    今 なお 残る 差別 や 偏見 を 、 確実 に なくす 。 そう 強く 促す 司法 判断 ...         630  \n",
      "3    各地 で 天候 の 不順 や 急変 が 相次ぐ 。 梅雨 の この 時期 は 、 豪雨 が ...         629  \n",
      "4    香港 の 市民 から 多く の 権利 を 奪っ た 「 香港 国家 安全 維持 法 」 （ ...         655  \n",
      "..                                                 ...         ...  \n",
      "295  中国 と 中央アジア ５ か国 による 初 の 対面 で の 首脳 会議 が 開か れ た ...         591  \n",
      "296  保育 士 が 子ども に 暴力 を 振るっ たり 、 暴言 を 吐い たり する こと は ...         601  \n",
      "297  ◆ 核軍縮 の 取り組み 加速 さ せ たい ◆ 日 米 欧 が 新 興国 を 交え て 、...        1075  \n",
      "298  民主 主義 陣営 の 中核 が 集う 先進 ７ か国 首脳 会議 （ Ｇ７ サミット ） が...         592  \n",
      "299  コロナ 禍 から の 景気 の 持ち直し 基調 が 、 明確 に なっ て き た 。 今 ...         602  \n",
      "\n",
      "[300 rows x 6 columns]\n"
     ]
    }
   ],
   "source": [
    "import pandas as pd\n",
    "import MeCab\n",
    "\n",
    "df = pd.read_csv('./data/editorial300.csv')\n",
    "\n",
    "def tokenize_text(text):\n",
    "    tokenizer = MeCab.Tagger(\"-Owakati\")\n",
    "    tokenized_text = tokenizer.parse(text).strip()\n",
    "\n",
    "    return tokenized_text\n",
    "\n",
    "# Preprocess text and count number of words in each article\n",
    "df['Preprocessed_Content'] = df['Content'].apply(tokenize_text)\n",
    "df['Word_Count'] = df['Preprocessed_Content'].apply(lambda x: len(x.split()))\n",
    "\n",
    "# Convert the 'Date' column to a datetime type\n",
    "df['Date'] = pd.to_datetime(df['Date'], utc=True)\n",
    "\n",
    "# Display the DataFrame\n",
    "print(df)"
   ]
  },
  {
   "cell_type": "code",
   "execution_count": 31,
   "metadata": {},
   "outputs": [
    {
     "data": {
      "image/png": "[encoded data removed]",
      "text/plain": [
       "<Figure size 720x432 with 1 Axes>"
      ]
     },
     "metadata": {
      "needs_background": "light"
     },
     "output_type": "display_data"
    }
   ],
   "source": [
    "import matplotlib.pyplot as plt\n",
    "import matplotlib.dates as mdates\n",
    "\n",
    "# Assuming you have the DataFrame 'df' with the preprocessed data and the 'Newspaper' column\n",
    "\n",
    "# Group the articles by day and count the total number of articles for each day\n",
    "df_grouped = df.groupby(df['Date'].dt.date).size()\n",
    "\n",
    "# Sort the DataFrame in reverse order of dates\n",
    "df_grouped_sorted = df_grouped.sort_index(ascending=False)\n",
    "\n",
    "# Set up the figure and axes\n",
    "fig, ax = plt.subplots(figsize=(10, 6))\n",
    "\n",
    "# Plot the bar chart of the total number of articles per day\n",
    "ax.bar(df_grouped_sorted.index, df_grouped_sorted.values, color='blue', alpha=0.8)\n",
    "\n",
    "# Set the x-axis tick labels and rotation\n",
    "ax.xaxis.set_major_locator(mdates.DayLocator(interval=5))\n",
    "ax.xaxis.set_major_formatter(mdates.DateFormatter('%Y-%m-%d'))\n",
    "ax.invert_xaxis()\n",
    "plt.xticks(rotation=45)\n",
    "\n",
    "# Set the y-axis label and title\n",
    "ax.set_ylabel('Total Number of Articles')\n",
    "ax.set_title('Total Number of Articles per Day')\n",
    "\n",
    "# Display the plot\n",
    "plt.tight_layout()\n",
    "plt.show()\n"
   ]
  },
  {
   "cell_type": "code",
   "execution_count": 55,
   "metadata": {},
   "outputs": [
    {
     "data": {
      "image/png": "[encoded data removed]",
      "text/plain": [
       "<Figure size 1440x432 with 1 Axes>"
      ]
     },
     "metadata": {
      "needs_background": "light"
     },
     "output_type": "display_data"
    }
   ],
   "source": [
    "import matplotlib.pyplot as plt\n",
    "import numpy as np\n",
    "\n",
    "# Assuming you have the DataFrame 'df' with the preprocessed data and the 'Newspaper' column\n",
    "\n",
    "# Group the articles by date and newspaper, and count the number of articles for each combination\n",
    "df_grouped = df.groupby([df['Date'].dt.date, 'Newspaper']).size().reset_index(name='Count')\n",
    "\n",
    "# Pivot the DataFrame to have dates as rows and newspapers as columns\n",
    "df_pivot = df_grouped.pivot(index='Date', columns='Newspaper', values='Count').fillna(0)\n",
    "\n",
    "# Get the unique dates\n",
    "dates = df_pivot.index\n",
    "\n",
    "# Get the number of newspapers\n",
    "num_newspapers = df_pivot.shape[1]\n",
    "\n",
    "# Set the width of each bar\n",
    "bar_width = 0.2\n",
    "\n",
    "# Set the positions of the bars on the x-axis\n",
    "r1 = np.arange(len(dates))\n",
    "r2 = [x + bar_width for x in r1]\n",
    "r3 = [x + bar_width for x in r2]\n",
    "\n",
    "# Set up the figure and axes\n",
    "fig, ax = plt.subplots(figsize=(20, 6))\n",
    "\n",
    "# Plot the bars for each newspaper\n",
    "ax.bar(r1, df_pivot['asahi'], color='blue', width=bar_width, alpha=0.8, label='Asahi')\n",
    "ax.bar(r2, df_pivot['yomiuri'], color='red', width=bar_width, alpha=0.8, label='Yomiuri')\n",
    "ax.bar(r3, df_pivot['mainichi'], color='green', width=bar_width, alpha=0.8, label='Mainichi')\n",
    "\n",
    "# Set the x-axis tick labels and rotation\n",
    "ax.set_xticks(r2[::5])  # Show tick labels every 5th position\n",
    "ax.set_xticklabels(dates[::5], rotation=45)\n",
    "\n",
    "# Invert the x-axis\n",
    "ax.invert_xaxis()\n",
    "\n",
    "# Set the y-axis as integers\n",
    "ax.yaxis.set_major_locator(plt.MaxNLocator(integer=True))\n",
    "\n",
    "# Set the y-axis label and title\n",
    "ax.set_ylabel('Number of Articles')\n",
    "ax.set_title('Number of Articles per Day by Newspaper')\n",
    "\n",
    "# Add a legend\n",
    "ax.legend()\n",
    "\n",
    "# Display the plot\n",
    "plt.tight_layout()\n",
    "plt.show()"
   ]
  },
  {
   "cell_type": "code",
   "execution_count": 57,
   "metadata": {},
   "outputs": [
    {
     "data": {
      "image/png": "[encoded data removed]",
      "text/plain": [
       "<Figure size 1440x432 with 1 Axes>"
      ]
     },
     "metadata": {
      "needs_background": "light"
     },
     "output_type": "display_data"
    }
   ],
   "source": [
    "import matplotlib.pyplot as plt\n",
    "import numpy as np\n",
    "\n",
    "# Assuming you have the DataFrame 'df' with the preprocessed data and the 'Newspaper' column\n",
    "\n",
    "# Group the articles by date, newspaper, and calculate the average number of words per article for each combination\n",
    "df_grouped = df.groupby([df['Date'].dt.date, 'Newspaper'])['Word_Count'].mean().reset_index(name='AvgWords')\n",
    "\n",
    "# Pivot the DataFrame to have dates as rows and newspapers as columns\n",
    "df_pivot = df_grouped.pivot(index='Date', columns='Newspaper', values='AvgWords').fillna(0)\n",
    "\n",
    "# Get the unique dates\n",
    "dates = df_pivot.index\n",
    "\n",
    "# Get the number of newspapers\n",
    "num_newspapers = df_pivot.shape[1]\n",
    "\n",
    "# Set the width of each bar\n",
    "bar_width = 0.2\n",
    "\n",
    "# Set the positions of the bars on the x-axis\n",
    "r1 = np.arange(len(dates))\n",
    "r2 = [x + bar_width for x in r1]\n",
    "r3 = [x + bar_width for x in r2]\n",
    "\n",
    "# Set up the figure and axes\n",
    "fig, ax = plt.subplots(figsize=(20, 6))\n",
    "\n",
    "# Plot the bars for each newspaper\n",
    "ax.bar(r1, df_pivot['asahi'], color='blue', width=bar_width, alpha=0.8, label='Asahi')\n",
    "ax.bar(r2, df_pivot['yomiuri'], color='red', width=bar_width, alpha=0.8, label='Yomiuri')\n",
    "ax.bar(r3, df_pivot['mainichi'], color='green', width=bar_width, alpha=0.8, label='Mainichi')\n",
    "\n",
    "# Set the x-axis tick labels and rotation\n",
    "ax.set_xticks(r2[::5])  # Show tick labels every 5th position\n",
    "ax.set_xticklabels(dates[::5], rotation=45)\n",
    "\n",
    "# Invert the x-axis\n",
    "ax.invert_xaxis()\n",
    "\n",
    "# Set the y-axis label and title\n",
    "ax.set_ylabel('Average Number of Words per Article')\n",
    "ax.set_title('Average Number of Words per Article per Day by Newspaper')\n",
    "\n",
    "# Add a legend\n",
    "ax.legend()\n",
    "\n",
    "# Display the plot\n",
    "plt.tight_layout()\n",
    "plt.show()\n"
   ]
  },
  {
   "cell_type": "markdown",
   "metadata": {},
   "source": [
    "### 1.2 前処理\n",
    "* Japanese stop word list from 'https://github.com/stopwords/japanese-stopwords/'"
   ]
  },
  {
   "cell_type": "code",
   "execution_count": null,
   "metadata": {},
   "outputs": [],
   "source": [
    "import MeCab\n",
    "import re\n",
    "\n",
    "def preprocess_japanese_text(text):\n",
    "    # Initialize MeCab tokenizer\n",
    "    tokenizer = MeCab.Tagger(\"-Owakati\")\n",
    "\n",
    "    # Tokenization\n",
    "    tokenized_text = tokenizer.parse(text).strip()\n",
    "\n",
    "    # Clean and filter unwanted characters\n",
    "    cleaned_text = clean_text(tokenized_text)\n",
    "\n",
    "    # Remove stop words if necessary\n",
    "    filtered_text = remove_stop_words(cleaned_text)\n",
    "\n",
    "    return filtered_text\n",
    "\n",
    "def clean_text(text):\n",
    "    # Regular expression pattern to match common punctuation marks\n",
    "    pattern = r'[、。？！…ー「」･･･（）◆]'\n",
    "    cleaned_text = re.sub(pattern, '', text)\n",
    "    return cleaned_text\n",
    "\n",
    "def remove_stop_words(text):\n",
    "    with open('./data/sw.txt', 'r', encoding='utf-8') as file:\n",
    "        stop_words = [line.strip() for line in file.readlines()]\n",
    "    # Tokenize the text\n",
    "    tokens = text.split()\n",
    "\n",
    "    # Remove stop words\n",
    "    filtered_tokens = [token for token in tokens if token not in stop_words]\n",
    "\n",
    "    # Rejoin the filtered tokens\n",
    "    filtered_text = \" \".join(filtered_tokens)\n",
    "\n",
    "    return filtered_text\n",
    "\n",
    "# Example usage\n",
    "sample_text = \"こんにちは！（私は）日本語の文章です。これは、◆テストです。\"\n",
    "preprocessed_text = preprocess_japanese_text(sample_text)\n",
    "print(preprocessed_text)\n",
    "\n",
    "df['Preprocessed_Content'] = df['Content'].apply(preprocess_japanese_text)"
   ]
  },
  {
   "cell_type": "markdown",
   "metadata": {},
   "source": [
    "## 3 ソースコードとしての工夫点\n",
    "### 3.1 Javascript elementをSeleniumで扱う方法\n",
    "データ収集段階では、朝日新聞と毎日新聞の各社説のページが「前の記事」というボッタンがあって、Seleniumを使わなくてもBeautifulSoupで古い記事のURLを取得することができます。 \n",
    "<br>\n",
    "読売新聞の場合ではこういう「前の記事」ボッタンを持っていませんので、Scrapingのストラテジーとして、'https://www.yomiuri.co.jp/editorial/' から記事のURLを抽出することになりました。  \n",
    "\n",
    "<img decoding=\"async\" src='./assets/yomiuri.png' width=\"80%\">\n",
    "\n",
    "この社説のページでは、「さらに読み込む」ボッタンがありまして、最初にロードされるの記事は20点で、一回ボッタンを押すともっと10点を読み込みます。 \n",
    "実際`find_element`メソッドを使って、HTMLのIDやCSS Selectorによってボッタンの選択は不可能です。\n",
    "\n",
    "    driver.find_element(By.ID, 'ajax_more_button').click() # not working\n",
    "\n",
    "ボッタンを扱いできるように、Javascript scriptを実行しなければなりません\n",
    "\n",
    "    driver.execute_script(\"return arguments[0].click()\", element) # works\n",
    "\n",
    "c.f.) https://stackoverflow.com/questions/76643641/how-to-click-a-button-with-selenium-on-a-javascript-page/76650771#76650771\n"
   ]
  },
  {
   "cell_type": "markdown",
   "metadata": {},
   "source": [
    "## 4 参考文献\n",
    "* \"Feature Engineering for Machine Learning, Alice Zheng & Amanda Casari, O’Reilly 978-1-491-95324-2.\"（日本語版『機械学習のための特徴量エンジニアリング』Alice Zheng、Amanda Casari著、オライリー・ジャパン、ISBN978-4-87311-868-0）"
   ]
  },
  {
   "cell_type": "markdown",
   "metadata": {},
   "source": [
    "## 5 付録：ソースコード\n",
    "* github"
   ]
  }
 ],
 "metadata": {
  "kernelspec": {
   "display_name": "base",
   "language": "python",
   "name": "python3"
  },
  "language_info": {
   "codemirror_mode": {
    "name": "ipython",
    "version": 3
   },
   "file_extension": ".py",
   "mimetype": "text/x-python",
   "name": "python",
   "nbconvert_exporter": "python",
   "pygments_lexer": "ipython3",
   "version": "3.8.8"
  },
  "orig_nbformat": 4
 },
 "nbformat": 4,
 "nbformat_minor": 2
}
